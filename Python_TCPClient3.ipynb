{
 "cells": [
  {
   "cell_type": "code",
   "execution_count": 2,
   "metadata": {
    "ExecuteTime": {
     "end_time": "2021-06-08T13:13:49.599148Z",
     "start_time": "2021-06-08T13:13:28.618357Z"
    }
   },
   "outputs": [
    {
     "name": "stdout",
     "output_type": "stream",
     "text": [
      "Server Connected...\n",
      "Hostname: 127.0.0.1, Port: 33146: File uploaded Sucessfully.\n"
     ]
    }
   ],
   "source": [
    "# Echo client program\n",
    "import socket\n",
    "import os\n",
    "\n",
    "fileName = 'testFile.txt'\n",
    "f = open('Files/' + fileName, 'rb')\n",
    "\n",
    "# The remote host\n",
    "HOST = 'localhost' \n",
    "# The same port as used by the server\n",
    "PORT = 10004 \n",
    "# create the socket connection\n",
    "s = socket.socket(socket.AF_INET, socket.SOCK_STREAM)\n",
    "# connect to the server and port mentioned\n",
    "s.connect((HOST, PORT))\n",
    "print(s.recv(1024).decode())\n",
    "# send the byte message to the server\n",
    "#data = fileName.encode() + ';//'.encode() + f.read()\n",
    "data = f.read()\n",
    "s.sendall(data)\n",
    "# message to stop\n",
    "s.send(b'?end')\n",
    "# printing the acknowledgement\n",
    "print(s.recv(1024).decode())\n",
    "s.send(fileName.encode())\n",
    "# close the connection once the message sent\n",
    "s.close()"
   ]
  },
  {
   "cell_type": "code",
   "execution_count": null,
   "metadata": {},
   "outputs": [],
   "source": []
  }
 ],
 "metadata": {
  "kernelspec": {
   "display_name": "Python 3",
   "language": "python",
   "name": "python3"
  },
  "language_info": {
   "codemirror_mode": {
    "name": "ipython",
    "version": 3
   },
   "file_extension": ".py",
   "mimetype": "text/x-python",
   "name": "python",
   "nbconvert_exporter": "python",
   "pygments_lexer": "ipython3",
   "version": "3.8.5"
  },
  "varInspector": {
   "cols": {
    "lenName": 16,
    "lenType": 16,
    "lenVar": 40
   },
   "kernels_config": {
    "python": {
     "delete_cmd_postfix": "",
     "delete_cmd_prefix": "del ",
     "library": "var_list.py",
     "varRefreshCmd": "print(var_dic_list())"
    },
    "r": {
     "delete_cmd_postfix": ") ",
     "delete_cmd_prefix": "rm(",
     "library": "var_list.r",
     "varRefreshCmd": "cat(var_dic_list()) "
    }
   },
   "types_to_exclude": [
    "module",
    "function",
    "builtin_function_or_method",
    "instance",
    "_Feature"
   ],
   "window_display": false
  }
 },
 "nbformat": 4,
 "nbformat_minor": 4
}
