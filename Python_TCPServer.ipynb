{
 "cells": [
  {
   "cell_type": "code",
   "execution_count": 1,
   "metadata": {
    "ExecuteTime": {
     "end_time": "2021-06-08T13:10:21.839280Z",
     "start_time": "2021-06-08T13:10:20.819601Z"
    }
   },
   "outputs": [],
   "source": [
    "# echo server program\n",
    "import socket\n",
    "import time\n",
    "import threading\n",
    "import os\n",
    "\n",
    "# symbolic name meaning all available interfaces\n",
    "HOST = 'localhost' \n",
    "# arbitrary non-privileged port\n",
    "PORT = 10004  \n",
    "# create the socket connection\n",
    "s = socket.socket(socket.AF_INET, socket.SOCK_STREAM)\n",
    "# bind the host and port to the socket\n",
    "s.bind((HOST, PORT))\n",
    "# listen to the client\n",
    "s.listen(3)"
   ]
  },
  {
   "cell_type": "code",
   "execution_count": 5,
   "metadata": {
    "ExecuteTime": {
     "end_time": "2021-06-08T13:13:32.211094Z",
     "start_time": "2021-06-08T13:13:32.189904Z"
    }
   },
   "outputs": [],
   "source": [
    "# get the messages from the clients\n",
    "def getMessages():\n",
    "    # get the incoming connection request and the address of the client\n",
    "    conn, addr = s.accept()\n",
    "    conn.send(b'Server Connected...')\n",
    "    full_data = b''\n",
    "    \n",
    "    while True:\n",
    "        # get the data from the client in chunks\n",
    "        data = conn.recv(4096)\n",
    "        \n",
    "        # get full data\n",
    "        full_data = full_data + data\n",
    "            \n",
    "        #check if data is empty or not, if empty exit the while loop\n",
    "        if b'?end' in data:\n",
    "            ack = 'Hostname: ' + addr[0] + ', Port: ' + str(addr[1]) + ': File uploaded Sucessfully.'\n",
    "            conn.send(ack.encode())\n",
    "            break\n",
    "            \n",
    "    file_name = conn.recv(128).decode()\n",
    "    # print the recived message from the client\n",
    "    print('File Recived from client' + ' Hostname: ' + addr[0] + ', Port: ' + str(addr[1]) + ' at {0}.'.format(time.ctime(time.time())), end=\"\\n\")\n",
    "               \n",
    "    \n",
    "    # close the client connection once the all the message is recieved\n",
    "    conn.close()\n",
    "    \n",
    "    full_data = full_data[:-4]\n",
    "    \n",
    "    with open('UploadedFiles/' + file_name, 'wb') as f:\n",
    "            f.write(full_data)\n",
    "            f.close()\n",
    "            \n",
    "    # sleeping for 5 seconds\n",
    "    time.sleep(5)"
   ]
  },
  {
   "cell_type": "markdown",
   "metadata": {},
   "source": [
    "### Synchronous method"
   ]
  },
  {
   "cell_type": "code",
   "execution_count": 6,
   "metadata": {
    "ExecuteTime": {
     "end_time": "2021-06-08T13:13:54.604753Z",
     "start_time": "2021-06-08T13:13:34.596908Z"
    }
   },
   "outputs": [
    {
     "name": "stdout",
     "output_type": "stream",
     "text": [
      "File Recived from client Hostname: 127.0.0.1, Port: 33142 at Tue Jun  8 18:43:34 2021.\n",
      "File Recived from client Hostname: 127.0.0.1, Port: 33144 at Tue Jun  8 18:43:44 2021.\n",
      "File Recived from client Hostname: 127.0.0.1, Port: 33146 at Tue Jun  8 18:43:49 2021.\n"
     ]
    }
   ],
   "source": [
    "getMessages()\n",
    "getMessages()\n",
    "getMessages()"
   ]
  },
  {
   "cell_type": "markdown",
   "metadata": {},
   "source": [
    "### Asynchronous Method"
   ]
  },
  {
   "cell_type": "code",
   "execution_count": 4,
   "metadata": {
    "ExecuteTime": {
     "end_time": "2021-06-01T17:26:29.073421Z",
     "start_time": "2021-06-01T17:26:05.087191Z"
    }
   },
   "outputs": [
    {
     "name": "stdout",
     "output_type": "stream",
     "text": [
      "File Recived from client Hostname: 127.0.0.1, Port: 48258 at Tue Jun  1 22:56:05 2021.\n",
      "File Recived from client Hostname: 127.0.0.1, Port: 48254 at Tue Jun  1 22:56:05 2021.\n",
      "File Recived from client Hostname: 127.0.0.1, Port: 48256 at Tue Jun  1 22:56:24 2021.\n"
     ]
    }
   ],
   "source": [
    "# using threads to run the function getMessages\n",
    "# creating the threads list to hold the threads\n",
    "threads = []\n",
    "\n",
    "# creating 3 threads for the clients\n",
    "for _ in range(3):\n",
    "    t = threading.Thread(target=getMessages)\n",
    "    t.start()\n",
    "    threads.append(t)\n",
    "\n",
    "# closing threads once all the threads run\n",
    "for thread in threads:\n",
    "    thread.join()"
   ]
  },
  {
   "cell_type": "code",
   "execution_count": 23,
   "metadata": {
    "ExecuteTime": {
     "end_time": "2021-06-01T17:19:27.834632Z",
     "start_time": "2021-06-01T17:19:27.829433Z"
    }
   },
   "outputs": [],
   "source": [
    "# close the socket connections\n",
    "s.close()"
   ]
  },
  {
   "cell_type": "code",
   "execution_count": null,
   "metadata": {},
   "outputs": [],
   "source": []
  }
 ],
 "metadata": {
  "kernelspec": {
   "display_name": "Python 3",
   "language": "python",
   "name": "python3"
  },
  "language_info": {
   "codemirror_mode": {
    "name": "ipython",
    "version": 3
   },
   "file_extension": ".py",
   "mimetype": "text/x-python",
   "name": "python",
   "nbconvert_exporter": "python",
   "pygments_lexer": "ipython3",
   "version": "3.8.5"
  },
  "varInspector": {
   "cols": {
    "lenName": 16,
    "lenType": 16,
    "lenVar": 40
   },
   "kernels_config": {
    "python": {
     "delete_cmd_postfix": "",
     "delete_cmd_prefix": "del ",
     "library": "var_list.py",
     "varRefreshCmd": "print(var_dic_list())"
    },
    "r": {
     "delete_cmd_postfix": ") ",
     "delete_cmd_prefix": "rm(",
     "library": "var_list.r",
     "varRefreshCmd": "cat(var_dic_list()) "
    }
   },
   "types_to_exclude": [
    "module",
    "function",
    "builtin_function_or_method",
    "instance",
    "_Feature"
   ],
   "window_display": false
  }
 },
 "nbformat": 4,
 "nbformat_minor": 4
}
